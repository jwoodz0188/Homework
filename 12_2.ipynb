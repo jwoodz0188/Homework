{
  "nbformat": 4,
  "nbformat_minor": 0,
  "metadata": {
    "colab": {
      "provenance": [],
      "include_colab_link": true
    },
    "kernelspec": {
      "name": "python3",
      "display_name": "Python 3"
    },
    "language_info": {
      "name": "python"
    }
  },
  "cells": [
    {
      "cell_type": "markdown",
      "metadata": {
        "id": "view-in-github",
        "colab_type": "text"
      },
      "source": [
        "<a href=\"https://colab.research.google.com/github/jwoodz0188/Homework/blob/main/12_2.ipynb\" target=\"_parent\"><img src=\"https://colab.research.google.com/assets/colab-badge.svg\" alt=\"Open In Colab\"/></a>"
      ]
    },
    {
      "cell_type": "code",
      "source": [
        "#code from 12.1\n",
        "import requests\n",
        "from nltk.corpus import stopwords\n",
        "from wordcloud import WordCloud\n",
        "import matplotlib.pyplot as plt\n",
        "\n",
        "response = requests.get(\"http://www.python.org\")\n",
        "response.content\n",
        "from bs4 import BeautifulSoup\n",
        "soup = BeautifulSoup(response.content,'html5lib')\n",
        "text = soup.get_text(strip=True)"
      ],
      "metadata": {
        "id": "Gx9HtMpSwV1J"
      },
      "execution_count": 34,
      "outputs": []
    },
    {
      "cell_type": "code",
      "source": [
        "#code for 12.2 12.2 (Tokenizing Text and Noun Phrases) Using the text from Exercise\n",
        "#12.1, create a  TextBlob, then tokenize it into Sentences and Words, and extract its noun phrases.\n",
        "\n",
        "from textblob import TextBlob\n",
        "from nltk.tokenize import TabTokenizer\n",
        "import nltk\n",
        "\n",
        "sentences = nltk.sent_tokenize(text)\n",
        "words = nltk.word_tokenize(text)\n",
        "\n",
        "blob = TextBlob(text)\n",
        "nounPhrases = blob.noun_phrases"
      ],
      "metadata": {
        "id": "tMvWB_pIabgC"
      },
      "execution_count": 36,
      "outputs": []
    }
  ]
}